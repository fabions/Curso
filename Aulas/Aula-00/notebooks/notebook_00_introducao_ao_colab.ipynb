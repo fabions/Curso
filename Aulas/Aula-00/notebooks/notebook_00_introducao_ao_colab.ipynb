{
  "nbformat": 4,
  "nbformat_minor": 0,
  "metadata": {
    "colab": {
      "name": "notebook-00-introducao-ao-colab.ipynb",
      "provenance": [],
      "collapsed_sections": [],
      "authorship_tag": "ABX9TyMuxBke6sx/QzVv2yktwJ7m",
      "include_colab_link": true
    },
    "kernelspec": {
      "name": "python3",
      "display_name": "Python 3"
    },
    "language_info": {
      "name": "python"
    }
  },
  "cells": [
    {
      "cell_type": "markdown",
      "metadata": {
        "id": "view-in-github",
        "colab_type": "text"
      },
      "source": [
        "<a href=\"https://colab.research.google.com/github/fabions/Curso/blob/master/Aulas/Aula-00/notebooks/notebook_00_introducao_ao_colab.ipynb\" target=\"_parent\"><img src=\"https://colab.research.google.com/assets/colab-badge.svg\" alt=\"Open In Colab\"/></a>"
      ]
    },
    {
      "cell_type": "markdown",
      "metadata": {
        "id": "FE561d7978jT"
      },
      "source": [
        "# Introdução ao Google Colab\n"
      ]
    },
    {
      "cell_type": "markdown",
      "metadata": {
        "id": "8hjZJL6PRiNF"
      },
      "source": [
        "O Colaboratory, ou Colab, é uma plataforma da Google que permite  a criação e execução de documentos interativos (denominados notebooks) compostos por uma lista de células, as quais podem conter texto rico (como a presente célula) ou trechos de código executável. Os notebooks Colab são, de fato, [notebooks Jupyter](https://jupyter.org/) armazenados na plataforma da Google através do Google Drive, podendo ser facilmente compartilhados. A execução desses notebooks ocorre diretamente na nuvem da Google, não sendo necessária a instalação de software na máquina local."
      ]
    },
    {
      "cell_type": "markdown",
      "metadata": {
        "id": "v4Vh4PKSPVWH"
      },
      "source": [
        "## Células Texto"
      ]
    },
    {
      "cell_type": "markdown",
      "metadata": {
        "id": "v21w40fTQZSg"
      },
      "source": [
        "O formato de exibição das células texto pode definido utilizando-se [Markdown](https://daringfireball.net/projects/markdown/), que é uma ferramenta para conversão de texto em HTML. Como explicado no link anterior, *Markdown* é, ao mesmo tempo, uma sintaxe para formatação de texto, e uma ferramenta que converte o texto baseado nesta sintaxe, em HTML. Bons resumos dessa sintaxe podem ser encontrados [neste link](https://github.com/adam-p/markdown-here/wiki/Markdown-Cheatsheet) e [neste notebook](https://colab.research.google.com/notebooks/markdown_guide.ipynb). As células de texto podem ser apresentadas em modo de edição, onde o texto na sintaxe de Markdown é apresentado, ou em modo de exibição, quando se apresenta o HTML gerado a partir do processamento da célula. Para que se possa alternar entre essas apresentações, basta clicar duas vezes na célula."
      ]
    },
    {
      "cell_type": "markdown",
      "metadata": {
        "id": "YlatFA6OP9FH"
      },
      "source": [
        "## Células de Código"
      ]
    },
    {
      "cell_type": "markdown",
      "metadata": {
        "id": "bVPT_CBCRaQT"
      },
      "source": [
        "No Colab, as células de código são escritas em [Python](https://www.python.org/) e para que possam ser executadas, o notebook deve estar conectado a um ambiente de execução (veja o botão *conectar*, no canto superior direito da tela).\n",
        "\n",
        "Após a conexão, cada célula pode ser executada individualmente, promovendo uma execução iterativa, de forma que não há noção de sequência específica de execução. Para que uma célula possa ser executada, deve-se inicialmente selecioná-la através de um clique de mouse. Uma vez selecionada, a célula de código pode ser executada através: * do botão *play* à direita da célula\n",
        "* CTRL + ENTER: executa e mantém o foco na célula\n",
        "* SHIF + ENTER: executa e move o foco para a próxima célula (podendo adicionar, se não existir)\n",
        "* ALT + ENTER: executa e cria uma nova célula de código abaixo\n",
        "\n",
        "Como exemplo, veja a célula de código abaixo:"
      ]
    },
    {
      "cell_type": "code",
      "metadata": {
        "colab": {
          "base_uri": "https://localhost:8080/"
        },
        "id": "rBTD-qheoVIx",
        "outputId": "2a6347b5-442f-4792-9962-bdc9deed6cce"
      },
      "source": [
        "# ou código Python como esta\n",
        "a = 10 + 20\n",
        "print('O valor de a é',a)"
      ],
      "execution_count": 2,
      "outputs": [
        {
          "output_type": "stream",
          "text": [
            "O valor de a é 30\n"
          ],
          "name": "stdout"
        }
      ]
    },
    {
      "cell_type": "markdown",
      "metadata": {
        "id": "9ShwJi-mKrt6"
      },
      "source": [
        "Mais informações sobre a plataforma Colab podem ser encontrados [neste notebook](https://colab.research.google.com/notebooks/intro.ipynb) e [neste outro](https://colab.research.google.com/notebooks/basic_features_overview.ipynb)."
      ]
    }
  ]
}