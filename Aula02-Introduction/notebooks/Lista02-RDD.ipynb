{
 "cells": [
  {
   "cell_type": "markdown",
   "metadata": {},
   "source": [
    "# Lista02 - Introduction to Resilient Distributed Dataset (RDD)\n",
    "\n",
    "The goal of this notebook is to show some examples of using RDDs. In order to do that, we will use the ml-100k dataset (https://grouplens.org/datasets/movielens/100k/) that comprises a set of movie ratings. From our point of view, this dataset is mainly composed by three files:\n",
    "\n",
    "1. u.item: containing information about the movies (e.g. movie id, title, release date, etc.)\n",
    "2. u.user: containing user data (e.g. user id, age, gender, and occupation)\n",
    "3. u.data: representing ratings attributed by the users to the movies\n",
    "\n",
    "In this pratical class, we will view how to create RDDs based on the content of those files, use transformations to create new RDD, and use action effectivelly data to answer the following questions:\n",
    "\n",
    "1. What are the percentages of male and female reviewers?\n",
    "2. How many evaluations our top-10 reviewers did?\n",
    "3. What is the average rating of our top-10 movies?\n",
    "4. What is the average rating given by male reviewers? And what about females?\n",
    "5. Which movie can be considered the \"best one\"? And the worst one?\n",
    "6. What is the name and age of the user that have done more evaluations?\n",
    "7. Is there any users that did not evaluate a movie?\n",
    "\n",
    "You should start by loading those files as RDDs, and listing some of their registries in order to understand their formats.\n"
   ]
  },
  {
   "cell_type": "markdown",
   "metadata": {},
   "source": [
    "## Exercise 0: Creating RDDs from our files"
   ]
  },
  {
   "cell_type": "code",
   "execution_count": 1,
   "metadata": {},
   "outputs": [],
   "source": [
    "from pyspark import SparkConf, SparkContext\n",
    "import collections\n"
   ]
  },
  {
   "cell_type": "code",
   "execution_count": 2,
   "metadata": {},
   "outputs": [
    {
     "data": {
      "text/plain": [
       "'http://f9175e11752a:4043'"
      ]
     },
     "execution_count": 2,
     "metadata": {},
     "output_type": "execute_result"
    }
   ],
   "source": [
    "conf = SparkConf().setMaster(\"local[*]\").setAppName(\"FirstSparkApp\")\n",
    "sc = SparkContext(conf = conf)\n",
    "sc.uiWebUrl"
   ]
  },
  {
   "cell_type": "code",
   "execution_count": 3,
   "metadata": {},
   "outputs": [
    {
     "data": {
      "text/plain": [
       "1"
      ]
     },
     "execution_count": 3,
     "metadata": {},
     "output_type": "execute_result"
    }
   ],
   "source": [
    "usersRdd = sc.textFile('u.user')\n",
    "usersRdd.setName('users').cache()\n",
    "usersRdd.getNumPartitions()\n",
    "# usersRdd.take(10)"
   ]
  },
  {
   "cell_type": "code",
   "execution_count": 4,
   "metadata": {},
   "outputs": [
    {
     "data": {
      "text/plain": [
       "ratings MapPartitionsRDD[3] at textFile at NativeMethodAccessorImpl.java:0"
      ]
     },
     "execution_count": 4,
     "metadata": {},
     "output_type": "execute_result"
    }
   ],
   "source": [
    "'''user id | item id | rating | timestamp'''\n",
    "ratingsRdd = sc.textFile('u.data')\n",
    "ratingsRdd.setName('ratings').cache()\n",
    "\n",
    "# ratingsRdd.cache()\n",
    "# ratingsRdd.take(10)"
   ]
  },
  {
   "cell_type": "code",
   "execution_count": 5,
   "metadata": {},
   "outputs": [],
   "source": [
    "moviesRdd = sc.textFile('u.item')\n",
    "# moviesRdd.take(10)"
   ]
  },
  {
   "cell_type": "markdown",
   "metadata": {},
   "source": [
    "## Exercise 1: What are the percentages of male and female reviewers?"
   ]
  },
  {
   "cell_type": "markdown",
   "metadata": {},
   "source": [
    "### Solution a:"
   ]
  },
  {
   "cell_type": "code",
   "execution_count": 6,
   "metadata": {},
   "outputs": [
    {
     "name": "stdout",
     "output_type": "stream",
     "text": [
      "defaultdict(<class 'int'>, {'M': 670, 'F': 273})\n",
      "Male reviewers:  71.05 %\n",
      "Male reviewers:  28.95 %\n"
     ]
    }
   ],
   "source": [
    "percentageCol = usersRdd.map(lambda line : (line.split('|')[2], 1)).countByKey()\n",
    "numberOfUsers = percentageCol['M']+percentageCol['F']\n",
    "type(percentageCol)\n",
    "print(percentageCol)\n",
    "print(\"Male reviewers: % 5.2f %%\" %(round(100*percentageCol['M']/numberOfUsers,2)))\n",
    "print(\"Male reviewers: % 5.2f %%\" %(round(100*percentageCol['F']/numberOfUsers,2)))"
   ]
  },
  {
   "cell_type": "markdown",
   "metadata": {},
   "source": [
    "### Solution b:"
   ]
  },
  {
   "cell_type": "code",
   "execution_count": 7,
   "metadata": {},
   "outputs": [
    {
     "name": "stdout",
     "output_type": "stream",
     "text": [
      "Male reviewers:  71.05 %\n",
      "Female reviewers: 28.95 %\n"
     ]
    }
   ],
   "source": [
    "males = usersRdd.filter(lambda line : line.split('|')[2] == 'M').count()\n",
    "females = usersRdd.filter(lambda line : line.split('|')[2] == 'F').count()\n",
    "\n",
    "print(\"Male reviewers: % 5.2f %%\" %(round(100*males/numberOfUsers,2)))\n",
    "print(\"Female reviewers: %5.2f %%\" %(round(100*females/numberOfUsers,2)))"
   ]
  },
  {
   "cell_type": "markdown",
   "metadata": {},
   "source": [
    "### Solution c:"
   ]
  },
  {
   "cell_type": "code",
   "execution_count": 8,
   "metadata": {},
   "outputs": [
    {
     "data": {
      "text/plain": [
       "[('M', 71.05), ('F', 28.95)]"
      ]
     },
     "execution_count": 8,
     "metadata": {},
     "output_type": "execute_result"
    }
   ],
   "source": [
    "percentageRdd = usersRdd.map(lambda line : (line.split('|')[2], 1)).reduceByKey(lambda a,b : (a + b)).mapValues(lambda x: round((100 * x)/numberOfUsers,2))\n",
    "percentageRdd.collect()"
   ]
  },
  {
   "cell_type": "code",
   "execution_count": 9,
   "metadata": {},
   "outputs": [
    {
     "name": "stdout",
     "output_type": "stream",
     "text": [
      "Male reviewers: 71.05 %\n",
      "Male reviewers: 71.05 %\n",
      "Female reviewers: 28.95 %\n",
      "Female reviewers: 28.95 %\n"
     ]
    }
   ],
   "source": [
    "for genre, percent in percentageRdd.collect():\n",
    "    print(('Male' if genre == 'M' else 'Female') + \" reviewers: %5.2f %%\" % percent)\n",
    "    print(('Male','Female')[genre == 'F'] + \" reviewers: %5.2f %%\" % percent)"
   ]
  },
  {
   "cell_type": "markdown",
   "metadata": {},
   "source": [
    "## Exercise 2: How many evaluations our top-10 reviewers did?"
   ]
  },
  {
   "cell_type": "markdown",
   "metadata": {},
   "source": [
    "### Solution a (ordering in python)"
   ]
  },
  {
   "cell_type": "code",
   "execution_count": 10,
   "metadata": {},
   "outputs": [
    {
     "name": "stdout",
     "output_type": "stream",
     "text": [
      "<class 'list'>\n",
      "405: 737\n",
      "655: 685\n",
      "13: 636\n",
      "450: 540\n",
      "276: 518\n",
      "416: 493\n",
      "537: 490\n",
      "303: 484\n",
      "234: 480\n",
      "393: 448\n"
     ]
    }
   ],
   "source": [
    "userRatingsDict = ratingsRdd.map(lambda line: (int(line.split('\\t')[0]),1)).countByKey()\n",
    "sortedResults = list(collections.OrderedDict(sorted(userRatingsDict.items(), key=lambda pair: pair[1], reverse=True)).items())\n",
    "print(type(sortedResults))\n",
    "top = 0\n",
    "while(top < 10):\n",
    "    user = sortedResults[top]\n",
    "    print(str(user[0]) + \": \" + str(user[1]))\n",
    "    top += 1\n",
    "#for key,value in sortedResults.items():\n",
    "    "
   ]
  },
  {
   "cell_type": "markdown",
   "metadata": {},
   "source": [
    "### Solution b (ordering in Spark)"
   ]
  },
  {
   "cell_type": "code",
   "execution_count": 11,
   "metadata": {},
   "outputs": [
    {
     "data": {
      "text/plain": [
       "[(405, 737),\n",
       " (655, 685),\n",
       " (13, 636),\n",
       " (450, 540),\n",
       " (276, 518),\n",
       " (416, 493),\n",
       " (537, 490),\n",
       " (303, 484),\n",
       " (234, 480),\n",
       " (393, 448)]"
      ]
     },
     "execution_count": 11,
     "metadata": {},
     "output_type": "execute_result"
    }
   ],
   "source": [
    "userRatingsDict = ratingsRdd.map(lambda line: (int(line.split('\\t')[0]),1)).reduceByKey(lambda x, y: x+y).sortBy(lambda register: register[1], ascending = False)\n",
    "userRatingsDict.take(10)"
   ]
  }
 ],
 "metadata": {
  "kernelspec": {
   "display_name": "Python 3",
   "language": "python",
   "name": "python3"
  },
  "language_info": {
   "codemirror_mode": {
    "name": "ipython",
    "version": 3
   },
   "file_extension": ".py",
   "mimetype": "text/x-python",
   "name": "python",
   "nbconvert_exporter": "python",
   "pygments_lexer": "ipython3",
   "version": "3.7.3"
  }
 },
 "nbformat": 4,
 "nbformat_minor": 4
}
