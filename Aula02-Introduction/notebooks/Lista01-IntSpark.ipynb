{
 "cells": [
  {
   "cell_type": "markdown",
   "metadata": {},
   "source": [
    "# Lista 01 - Introducao ao Spark\n",
    "\n",
    "Neste primeiro exercicio, utilizaremos o arquivo u.data, parte do conjunto de dados [ml-100k](https://grouplens.org/datasets/movielens/100k/ml-100k) que contem 100.000 avaliacoes de filmes feitas por usuarios cadastrados. Baixe o arquivo e coloque na mesma pasta deste notebook em uma area visivel para o container docker que ira executar o jupyter notebook. O arquivo u.data e um arquivo texto separado por espacos, seguindo o seguinte layout:\n",
    "\n",
    "userId   movieId   rating  timestamp\n",
    "\n",
    "196      242       3       881250949\n",
    "\n",
    "## Exercicio 1: Carregue um RDD com os dados do arquivo"
   ]
  },
  {
   "cell_type": "code",
   "execution_count": 1,
   "metadata": {},
   "outputs": [],
   "source": [
    "# Para utilizar o Spark, o primeiro passo e criar uma secao\n",
    "# Uma vez executada esta celula nao deve ser executada novamente. \n",
    "# Ja havera uma secao aberta\n",
    "from pyspark.sql import SparkSession\n",
    "from pyspark.sql.types import *\n",
    "spark = SparkSession \\\n",
    "    .builder \\\n",
    "    .master('local[*]') \\\n",
    "    .appName(\"Lista01\") \\\n",
    "    .getOrCreate()\n"
   ]
  },
  {
   "cell_type": "code",
   "execution_count": 2,
   "metadata": {},
   "outputs": [],
   "source": [
    "# Carregue o RDD na memoria, utilizando um SparkContext obtido a partir da Secao\n",
    "usersRdd = spark.sparkContext.textFile('u.data')\n"
   ]
  },
  {
   "cell_type": "markdown",
   "metadata": {},
   "source": [
    "## Exercicio 2: Conte quantas notas 5 fazem parte do conjunto"
   ]
  },
  {
   "cell_type": "code",
   "execution_count": 3,
   "metadata": {},
   "outputs": [
    {
     "data": {
      "text/plain": [
       "21201"
      ]
     },
     "execution_count": 3,
     "metadata": {},
     "output_type": "execute_result"
    }
   ],
   "source": [
    "usersRdd.map(lambda l: l.split()[2]).filter(lambda n : int(n) == 5).count()"
   ]
  },
  {
   "cell_type": "markdown",
   "metadata": {},
   "source": [
    "## Exercicio 3: Selecione o usuario que realizou o maior numero de avaliacoes e imprima o usuario e o numero de avaliacoes realizadas"
   ]
  },
  {
   "cell_type": "code",
   "execution_count": 4,
   "metadata": {},
   "outputs": [
    {
     "name": "stdout",
     "output_type": "stream",
     "text": [
      "Usuario 405 realizou 737 avaliacoes\n"
     ]
    }
   ],
   "source": [
    "counter, userId = usersRdd.map(lambda l : (l.split()[0], 1)).reduceByKey(lambda n1,n2: n1+n2).map(lambda p:(p[1],p[0])).sortByKey(False).first()\n",
    "print('Usuario %s realizou %i avaliacoes'%(userId,counter))"
   ]
  }
 ],
 "metadata": {
  "kernelspec": {
   "display_name": "Python 3",
   "language": "python",
   "name": "python3"
  },
  "language_info": {
   "codemirror_mode": {
    "name": "ipython",
    "version": 3
   },
   "file_extension": ".py",
   "mimetype": "text/x-python",
   "name": "python",
   "nbconvert_exporter": "python",
   "pygments_lexer": "ipython3",
   "version": "3.7.3"
  }
 },
 "nbformat": 4,
 "nbformat_minor": 4
}
